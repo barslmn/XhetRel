{
 "cells": [
  {
   "cell_type": "code",
   "execution_count": null,
   "id": "Hbol",
   "metadata": {},
   "outputs": [],
   "source": [
    "import os\n",
    "import marimo as mo\n",
    "import cyvcf2\n",
    "import pandas as pd\n",
    "import numpy as np\n",
    "from collections import Counter\n",
    "from sklearn.model_selection import train_test_split, cross_val_score\n",
    "from sklearn.linear_model import LogisticRegression\n",
    "from sklearn.metrics import accuracy_score, classification_report, roc_auc_score, roc_curve, precision_recall_curve\n",
    "from scipy import stats\n",
    "import matplotlib.pyplot as plt\n",
    "import seaborn as sns"
   ]
  },
  {
   "cell_type": "code",
   "execution_count": null,
   "id": "MJUe",
   "metadata": {},
   "outputs": [],
   "source": [
    "def read_sample_sex():\n",
    "    \"\"\"Read sample sex information from file.\"\"\"\n",
    "    sex_path = \"xhetrel/sample_sex\"\n",
    "    sex_df = pd.read_csv(sex_path, sep='\\t', names=['Sample', 'Sex'])\n",
    "\n",
    "    # Translate Turkish sex labels to English\n",
    "    sex_translation = {\n",
    "        'Kadın': 'female',\n",
    "        'Erkek': 'male'\n",
    "    }\n",
    "    sex_df['Sex'] = sex_df['Sex'].map(sex_translation)\n",
    "\n",
    "    # Remove samples with missing sex information\n",
    "    sex_df = sex_df.dropna(subset=['Sex'])\n",
    "\n",
    "    return sex_df\n"
   ]
  },
  {
   "cell_type": "code",
   "execution_count": null,
   "id": "vblA",
   "metadata": {},
   "outputs": [],
   "source": [
    "def read_vcf_variants():\n",
    "    \"\"\"Read VCF file and extract all variant information.\"\"\"\n",
    "    vcf_path = \"xhetrel/chrX.vcf.gz\"\n",
    "    reader = cyvcf2.Reader(vcf_path)\n",
    "\n",
    "    variants_data = []\n",
    "\n",
    "    for variant in reader:\n",
    "        for i, sample in enumerate(reader.samples):\n",
    "            # Get DP and VAF\n",
    "            dp = variant.format('DP')[i][0]\n",
    "            vaf_values = variant.format('VAF')\n",
    "\n",
    "            # Skip if VAF is not available or NaN\n",
    "            if vaf_values is None or np.isnan(vaf_values[i][0]):\n",
    "                continue\n",
    "\n",
    "            vaf = vaf_values[i][0]\n",
    "            gt_type = variant.gt_types[i]\n",
    "\n",
    "            # Skip UNKNOWN genotypes (gt_type == 2)\n",
    "            if gt_type == 2:\n",
    "                continue\n",
    "\n",
    "            # Store variant data\n",
    "            variants_data.append({\n",
    "                'sample': sample,\n",
    "                'dp': dp,\n",
    "                'vaf': vaf,\n",
    "                'gt_type': gt_type,\n",
    "                'is_het': gt_type == 1,  # HET\n",
    "                'is_hom_alt': gt_type == 3  # HOM_ALT\n",
    "            })\n",
    "\n",
    "    return pd.DataFrame(variants_data)\n"
   ]
  },
  {
   "cell_type": "code",
   "execution_count": null,
   "id": "bkHC",
   "metadata": {
    "marimo": {
     "name": "*apply_filters"
    }
   },
   "outputs": [],
   "source": [
    "def apply_filters(variants_df, min_dp=0, min_vaf=0):\n",
    "    \"\"\"Apply DP and VAF filters to variants.\"\"\"\n",
    "    filtered_df = variants_df[\n",
    "        (variants_df['dp'] > min_dp) & \n",
    "        (variants_df['vaf'] > min_vaf)\n",
    "    ].copy()\n",
    "\n",
    "    return filtered_df"
   ]
  },
  {
   "cell_type": "code",
   "execution_count": null,
   "id": "lEQa",
   "metadata": {},
   "outputs": [],
   "source": [
    "def subset_variants(variants_df, percentage, random_seed=42):\n",
    "    \"\"\"Randomly subset variants for each sample.\"\"\"\n",
    "    if percentage >= 1.0:\n",
    "        return variants_df\n",
    "\n",
    "    np.random.seed(random_seed)\n",
    "    subsetted_data = []\n",
    "\n",
    "    for sample in variants_df['sample'].unique():\n",
    "        sample_variants = variants_df[variants_df['sample'] == sample]\n",
    "        n_variants = len(sample_variants)\n",
    "        n_subset = max(1, int(n_variants * percentage))\n",
    "\n",
    "        # Randomly sample variants\n",
    "        subset_indices = np.random.choice(n_variants, size=n_subset, replace=False)\n",
    "        subsetted_variants = sample_variants.iloc[subset_indices]\n",
    "        subsetted_data.append(subsetted_variants)\n",
    "\n",
    "    return pd.concat(subsetted_data, ignore_index=True)\n"
   ]
  },
  {
   "cell_type": "code",
   "execution_count": null,
   "id": "PKri",
   "metadata": {},
   "outputs": [],
   "source": [
    "def calculate_heterozygosity_ratios(variants_df):\n",
    "    \"\"\"Calculate heterozygosity ratios for each sample.\"\"\"\n",
    "    sample_stats = []\n",
    "\n",
    "    for sample in variants_df['sample'].unique():\n",
    "        sample_variants = variants_df[variants_df['sample'] == sample]\n",
    "\n",
    "        het_count = sample_variants['is_het'].sum()\n",
    "        hom_alt_count = sample_variants['is_hom_alt'].sum()\n",
    "        total_variants = len(sample_variants)\n",
    "        total_het_hom = het_count + hom_alt_count\n",
    "\n",
    "        if total_het_hom > 0:\n",
    "            het_ratio = het_count / total_het_hom\n",
    "            sample_stats.append({\n",
    "                'Sample': sample,\n",
    "                'Heterozygous_Ratio': het_ratio,\n",
    "                'Total_Variants': total_variants,\n",
    "                'Het_Variants': het_count,\n",
    "                'Hom_Alt_Variants': hom_alt_count,\n",
    "                'Het_Hom_Total': total_het_hom\n",
    "            })\n",
    "\n",
    "    return pd.DataFrame(sample_stats)\n"
   ]
  },
  {
   "cell_type": "code",
   "execution_count": null,
   "id": "Xref",
   "metadata": {},
   "outputs": [],
   "source": [
    "def perform_statistical_analysis(het_ratios_df):\n",
    "    \"\"\"Perform statistical tests comparing heterozygosity ratios between sexes.\"\"\"\n",
    "    female_ratios = het_ratios_df[het_ratios_df['Sex'] == 'female']['Heterozygous_Ratio']\n",
    "    male_ratios = het_ratios_df[het_ratios_df['Sex'] == 'male']['Heterozygous_Ratio']\n",
    "\n",
    "    # Mann-Whitney U test\n",
    "    mw_stat, mw_pval = stats.mannwhitneyu(female_ratios, male_ratios, alternative='two-sided')\n",
    "\n",
    "    # T-test\n",
    "    t_stat, t_pval = stats.ttest_ind(female_ratios, male_ratios)\n",
    "\n",
    "    # Effect size (Cohen's d)\n",
    "    cohens_d = (female_ratios.mean() - male_ratios.mean()) / np.sqrt((female_ratios.var() + male_ratios.var()) / 2)\n",
    "\n",
    "    return {\n",
    "        'mw_pval': mw_pval,\n",
    "        't_pval': t_pval,\n",
    "        'cohens_d': cohens_d,\n",
    "        'female_mean': female_ratios.mean(),\n",
    "        'male_mean': male_ratios.mean(),\n",
    "        'female_std': female_ratios.std(),\n",
    "        'male_std': male_ratios.std()\n",
    "    }\n"
   ]
  },
  {
   "cell_type": "code",
   "execution_count": null,
   "id": "SFPL",
   "metadata": {},
   "outputs": [],
   "source": [
    "def calculate_confidence_intervals_scipy(data, confidence=0.95):\n",
    "    \"\"\"Calculate confidence intervals for the mean using scipy.stats.bootstrap.\"\"\"\n",
    "    # The data must be in a specific shape (n_samples, n_features)\n",
    "    # For a 1D array, we reshape it.\n",
    "    data = (data,)\n",
    "\n",
    "    # Calculate bootstrap confidence interval for the mean\n",
    "    res = stats.bootstrap(data, np.mean, confidence_level=confidence, method='percentile')\n",
    "\n",
    "    return res.confidence_interval\n"
   ]
  },
  {
   "cell_type": "code",
   "execution_count": null,
   "id": "BYtC",
   "metadata": {},
   "outputs": [],
   "source": [
    "def perform_classification_analysis(het_ratios_df):\n",
    "    \"\"\"Perform logistic regression to classify sex based on heterozygosity ratio.\"\"\"\n",
    "    # Prepare data - keep Sex for filtering later\n",
    "    X = het_ratios_df[['Heterozygous_Ratio', 'Sex']] # Temporarily keep Sex in X\n",
    "    y = (het_ratios_df['Sex'] == 'female').astype(int)\n",
    "\n",
    "    # Cross-validation (on full X without Sex for model fitting)\n",
    "    model = LogisticRegression()\n",
    "    cv_scores = cross_val_score(model, X[['Heterozygous_Ratio']], y, cv=5)\n",
    "\n",
    "    # Train-test split, keeping Sex in X_test for filtering\n",
    "    X_train, X_test, y_train, y_test = train_test_split(X, y, test_size=0.2, random_state=42)\n",
    "\n",
    "    # Fit model (only on Heterozygous_Ratio)\n",
    "    model.fit(X_train[['Heterozygous_Ratio']], y_train)\n",
    "\n",
    "    # Predictions\n",
    "    y_pred = model.predict(X_test[['Heterozygous_Ratio']])\n",
    "    y_pred_proba = model.predict_proba(X_test[['Heterozygous_Ratio']])[:, 1]\n",
    "\n",
    "    # Calculate thresholds for each sex\n",
    "    female_ratios = het_ratios_df[het_ratios_df['Sex'] == 'female']['Heterozygous_Ratio']\n",
    "    male_ratios = het_ratios_df[het_ratios_df['Sex'] == 'male']['Heterozygous_Ratio']\n",
    "\n",
    "    # Calculate mean and standard deviation for each sex\n",
    "    female_mean = female_ratios.mean()\n",
    "    female_std = female_ratios.std()\n",
    "    male_mean = male_ratios.mean()\n",
    "    male_std = male_ratios.std()\n",
    "\n",
    "    # Calculate confidence intervals using scipy\n",
    "    female_mean_ci = calculate_confidence_intervals_scipy(female_ratios.to_numpy())\n",
    "    male_mean_ci = calculate_confidence_intervals_scipy(male_ratios.to_numpy())\n",
    "\n",
    "    # Calculate thresholds as mean ± 1 standard deviation\n",
    "    female_threshold = female_mean - female_std\n",
    "    male_threshold = male_mean + male_std\n",
    "    midpoint_threshold = (male_threshold + female_threshold) / 2\n",
    "\n",
    "    # Calculate threshold confidence intervals\n",
    "    female_threshold_ci = [\n",
    "        female_mean_ci.low - female_std,  # Lower bound\n",
    "        female_mean_ci.high - female_std # Upper bound\n",
    "    ]\n",
    "    male_threshold_ci = [\n",
    "        male_mean_ci.low + male_std,      # Lower bound\n",
    "        male_mean_ci.high + male_std       # Upper bound\n",
    "    ]\n",
    "\n",
    "    # Calculate optimal threshold using ROC curve (overall)\n",
    "    fpr_overall, tpr_overall, thresholds_overall = roc_curve(y_test, y_pred_proba)\n",
    "\n",
    "    # Sex-specific Youden's J and CI\n",
    "    female_test_mask = (X_test['Sex'] == 'female')\n",
    "    male_test_mask = (X_test['Sex'] == 'male')\n",
    "\n",
    "    female_y_test = y_test[female_test_mask]\n",
    "    female_y_pred_proba = y_pred_proba[female_test_mask]\n",
    "\n",
    "    male_y_test = y_test[male_test_mask]\n",
    "    male_y_pred_proba = y_pred_proba[male_test_mask]\n",
    "\n",
    "    # Metrics\n",
    "    accuracy = accuracy_score(y_test, y_pred)\n",
    "    auc = roc_auc_score(y_test, y_pred_proba)\n",
    "\n",
    "    return {\n",
    "        'accuracy': accuracy,\n",
    "        'auc': auc,\n",
    "        'female_threshold': female_threshold,\n",
    "        'male_threshold': male_threshold,\n",
    "        'female_threshold_ci': female_threshold_ci,\n",
    "        'male_threshold_ci': male_threshold_ci,\n",
    "        'cv_scores': cv_scores,\n",
    "        'cv_mean': cv_scores.mean(),\n",
    "        'cv_std': cv_scores.std(),\n",
    "        'model': model,\n",
    "        'X_test': X_test[['Heterozygous_Ratio']], # Return X_test without Sex\n",
    "        'y_test': y_test,\n",
    "        'y_pred_proba': y_pred_proba,\n",
    "        'female_mean': female_mean,\n",
    "        'female_std': female_std,\n",
    "        'male_mean': male_mean,\n",
    "        'male_std': male_std,\n",
    "        'female_mean_ci': [female_mean_ci.low, female_mean_ci.high],\n",
    "        'male_mean_ci': [male_mean_ci.low, male_mean_ci.high],\n",
    "        'midpoint_threshold': midpoint_threshold\n",
    "    }\n"
   ]
  },
  {
   "cell_type": "code",
   "execution_count": null,
   "id": "RGSE",
   "metadata": {},
   "outputs": [],
   "source": [
    "def analyze_condition(variants_df, sex_df, condition_name, min_dp=0, min_vaf=0, percentage=1.0):\n",
    "    \"\"\"Analyze a single condition (DP/VAF filter + variant percentage).\"\"\"\n",
    "    print(f\"\\nAnalyzing: {condition_name}\")\n",
    "    print(\"-\" * 50)\n",
    "\n",
    "    # Apply filters\n",
    "    filtered_variants = apply_filters(variants_df, min_dp=min_dp, min_vaf=min_vaf)\n",
    "    print(f\"Variants after DP>{min_dp} and VAF>{min_vaf} filter: {len(filtered_variants)}\")\n",
    "\n",
    "    # Subset variants\n",
    "    subset_variants_df = subset_variants(filtered_variants, percentage)\n",
    "    print(f\"Variants after {percentage*100}% subsetting: {len(subset_variants_df)}\")\n",
    "\n",
    "    # Calculate heterozygosity ratios\n",
    "    het_ratios_df = calculate_heterozygosity_ratios(subset_variants_df)\n",
    "\n",
    "    # Merge with sex information\n",
    "    het_ratios_df = het_ratios_df.merge(sex_df, on='Sample', how='inner')\n",
    "    het_ratios_df = het_ratios_df.sort_values('Heterozygous_Ratio', ascending=False)\n",
    "\n",
    "    print(f\"Samples with data: {len(het_ratios_df)}\")\n",
    "    print(f\"Females: {len(het_ratios_df[het_ratios_df['Sex'] == 'female'])}\")\n",
    "    print(f\"Males: {len(het_ratios_df[het_ratios_df['Sex'] == 'male'])}\")\n",
    "\n",
    "    # Statistical analysis\n",
    "    stats_results = perform_statistical_analysis(het_ratios_df)\n",
    "    print(f\"\\nStatistical Results:\")\n",
    "    print(f\"Female mean \\u00b1 std: {stats_results['female_mean']:.3f} \\u00b1 {stats_results['female_std']:.3f}\")\n",
    "    print(f\"Male mean \\u00b1 std: {stats_results['male_mean']:.3f} \\u00b1 {stats_results['male_std']:.3f}\")\n",
    "    print(f\"Mann-Whitney p-value: {stats_results['mw_pval']:.2e}\")\n",
    "    print(f\"T-test p-value: {stats_results['t_pval']:.2e}\")\n",
    "    print(f\"Cohen's d: {stats_results['cohens_d']:.3f}\")\n",
    "\n",
    "    # Classification analysis\n",
    "    classification_results = perform_classification_analysis(het_ratios_df)\n",
    "    print(f\"\\nClassification Results:\")\n",
    "    print(f\"Accuracy: {classification_results['accuracy']:.3f}\")\n",
    "    print(f\"AUC-ROC: {classification_results['auc']:.3f}\")\n",
    "    print(f\"CV Mean \\u00b1 Std: {classification_results['cv_mean']:.3f} \\u00b1 {classification_results['cv_std']:.3f}\")\n",
    "\n",
    "\n",
    "    return {\n",
    "        'condition_name': condition_name,\n",
    "        'het_ratios_df': het_ratios_df,\n",
    "        'stats_results': stats_results,\n",
    "        'classification_results': classification_results,\n",
    "        'n_variants_filtered': len(filtered_variants),\n",
    "        'n_variants_subset': len(subset_variants_df),\n",
    "        'n_samples': len(het_ratios_df)\n",
    "    }\n"
   ]
  },
  {
   "cell_type": "code",
   "execution_count": null,
   "id": "Kclp",
   "metadata": {},
   "outputs": [],
   "source": [
    "def run_full_analysis():\n",
    "    \"\"\"Run the complete analysis for all conditions.\"\"\"\n",
    "    # Load data\n",
    "    print(\"Loading data...\")\n",
    "    variants_df = read_vcf_variants()\n",
    "    sex_df = read_sample_sex()\n",
    "\n",
    "    print(f\"Total variants loaded: {len(variants_df)}\")\n",
    "    print(f\"Unique samples: {variants_df['sample'].nunique()}\")\n",
    "    print(f\"Sex information for {len(sex_df)} samples\")\n",
    "\n",
    "    # Define conditions\n",
    "    dp_filters = [0, 10, 20]  # DP > 0, DP > 10, DP > 20\n",
    "    vaf_filters = [0, 0.25]  # VAF > 0, VAF > 0.25\n",
    "    percentages = [0.01, 0.05, 0.10, 0.25, 0.50, 0.75, 1.0]  # 1%, 5%, 10%, 25%, 50%, 75%, 100%\n",
    "\n",
    "    results = {}\n",
    "\n",
    "    # Run analysis for each combination\n",
    "    for dp in dp_filters:\n",
    "        for vaf in vaf_filters:\n",
    "            condition_base = f\"DP>{dp}_VAF>{vaf}\"\n",
    "\n",
    "            for pct in percentages:\n",
    "                condition_name = f\"{condition_base}_{int(pct*100)}pct\"\n",
    "\n",
    "                result = analyze_condition(\n",
    "                    variants_df, sex_df, condition_name, \n",
    "                    min_dp=dp, min_vaf=vaf, percentage=pct\n",
    "                )\n",
    "\n",
    "                results[condition_name] = result\n",
    "\n",
    "    return results, variants_df, sex_df\n"
   ]
  },
  {
   "cell_type": "code",
   "execution_count": null,
   "id": "emfo",
   "metadata": {},
   "outputs": [],
   "source": [
    "def create_summary_table(results):\n",
    "    \"\"\"Create a summary table of all results.\"\"\"\n",
    "    summary_data = []\n",
    "\n",
    "    for condition_name, result in results.items():\n",
    "        stats_res = result['stats_results']\n",
    "        classification = result['classification_results']\n",
    "        het_ratios_df = result['het_ratios_df'] # Access het_ratios_df for current condition\n",
    "\n",
    "        # Handle potential NaN if no males or females in subset or if max/min is NaN\n",
    "\n",
    "        summary_data.append({\n",
    "            'Condition': condition_name,\n",
    "            'N_Samples': result['n_samples'],\n",
    "            'N_Variants_Subset': result['n_variants_subset'],\n",
    "            'Female_Mean_Het_Ratio': f\"{stats_res['female_mean']:.2f}\",\n",
    "            'Male_Mean_Het_Ratio': f\"{stats_res['male_mean']:.2f}\",\n",
    "            'Cohens_D': f\"{stats_res['cohens_d']:.3f}\",\n",
    "            'MW_pvalue': f\"{stats_res['mw_pval']:.2e}\",\n",
    "            'T_test_pvalue': f\"{stats_res['t_pval']:.2e}\",\n",
    "            'Accuracy': f\"{classification['accuracy']:.2f}\",\n",
    "            'AUC_ROC': f\"{classification['auc']:.2f}\",\n",
    "            'CV_Mean': f\"{classification['cv_mean']:.2f}\",\n",
    "            'Female_Threshold': f\"{classification['female_threshold']:.2f}\",\n",
    "            'Male_Threshold': f\"{classification['male_threshold']:.2f}\",\n",
    "            'Female_Threshold_CI': f\"[{classification['female_threshold_ci'][0]:.2f}, {classification['female_threshold_ci'][1]:.2f}]\",\n",
    "            'Male_Threshold_CI': f\"[{classification['male_threshold_ci'][0]:.3f}, {classification['male_threshold_ci'][1]:.3f}]\",\n",
    "            'Midpoint_Threshold': f\"{classification['midpoint_threshold']:.2f}\"\n",
    "        })\n",
    "\n",
    "    summary_df = pd.DataFrame(summary_data)\n",
    "    return summary_df\n"
   ]
  },
  {
   "cell_type": "code",
   "execution_count": null,
   "id": "Hstk",
   "metadata": {},
   "outputs": [],
   "source": [
    "def save_results(results, output_dir=\"xhetrel\"):\n",
    "    \"\"\"Save all results to files.\"\"\"\n",
    "    if not os.path.exists(output_dir):\n",
    "        os.makedirs(output_dir)\n",
    "\n",
    "    # Save individual heterozygosity ratio files\n",
    "    for condition_name, result in results.items():\n",
    "        het_ratios_df = result['het_ratios_df']\n",
    "        output_file = os.path.join(output_dir, f\"xhet_{condition_name}.tsv\")\n",
    "        het_ratios_df.to_csv(output_file, sep='\\t', index=False)\n",
    "        print(f\"Saved: {output_file}\")\n",
    "\n",
    "    # Save summary table\n",
    "    summary_df = create_summary_table(results)\n",
    "    summary_file = os.path.join(output_dir, \"analysis_summary.tsv\")\n",
    "    summary_df.to_csv(summary_file, sep='\\t', index=False)\n",
    "    print(f\"Saved: {summary_file}\")\n",
    "\n",
    "    return summary_df\n"
   ]
  },
  {
   "cell_type": "code",
   "execution_count": null,
   "id": "nWHF",
   "metadata": {},
   "outputs": [
    {
     "name": "stdout",
     "output_type": "stream",
     "text": [
      "Starting X heterozygosity analysis...\n",
      "Loading data...\n"
     ]
    },
    {
     "name": "stdout",
     "output_type": "stream",
     "text": [
      "Total variants loaded: 269494\n",
      "Unique samples: 163\n",
      "Sex information for 142 samples\n",
      "\n",
      "Analyzing: DP>0_VAF>0_1pct\n",
      "--------------------------------------------------\n"
     ]
    },
    {
     "name": "stdout",
     "output_type": "stream",
     "text": [
      "Variants after DP>0 and VAF>0 filter: 269492\n"
     ]
    },
    {
     "name": "stdout",
     "output_type": "stream",
     "text": [
      "Variants after 1.0% subsetting: 2613\n"
     ]
    },
    {
     "name": "stdout",
     "output_type": "stream",
     "text": [
      "Samples with data: 142\n",
      "Females: 83\n",
      "Males: 59\n",
      "\n",
      "Statistical Results:\n",
      "Female mean ± std: 0.566 ± 0.104\n",
      "Male mean ± std: 0.022 ± 0.040\n",
      "Mann-Whitney p-value: 7.59e-25\n",
      "T-test p-value: 4.70e-76\n",
      "Cohen's d: 6.922\n"
     ]
    },
    {
     "name": "stdout",
     "output_type": "stream",
     "text": [
      "\n",
      "Classification Results:\n",
      "Accuracy: 1.000\n",
      "AUC-ROC: 1.000\n",
      "CV Mean ± Std: 1.000 ± 0.000\n",
      "\n",
      "Analyzing: DP>0_VAF>0_5pct\n",
      "--------------------------------------------------\n"
     ]
    },
    {
     "name": "stdout",
     "output_type": "stream",
     "text": [
      "Variants after DP>0 and VAF>0 filter: 269492\n"
     ]
    },
    {
     "name": "stdout",
     "output_type": "stream",
     "text": [
      "Variants after 5.0% subsetting: 13395\n"
     ]
    },
    {
     "name": "stdout",
     "output_type": "stream",
     "text": [
      "Samples with data: 142\n",
      "Females: 83\n",
      "Males: 59\n",
      "\n",
      "Statistical Results:\n",
      "Female mean ± std: 0.562 ± 0.052\n",
      "Male mean ± std: 0.026 ± 0.019\n",
      "Mann-Whitney p-value: 3.81e-24\n",
      "T-test p-value: 2.82e-115\n",
      "Cohen's d: 13.655\n"
     ]
    },
    {
     "name": "stdout",
     "output_type": "stream",
     "text": [
      "\n",
      "Classification Results:\n",
      "Accuracy: 1.000\n",
      "AUC-ROC: 1.000\n",
      "CV Mean ± Std: 1.000 ± 0.000\n",
      "\n",
      "Analyzing: DP>0_VAF>0_10pct\n",
      "--------------------------------------------------\n"
     ]
    },
    {
     "name": "stdout",
     "output_type": "stream",
     "text": [
      "Variants after DP>0 and VAF>0 filter: 269492\n"
     ]
    },
    {
     "name": "stdout",
     "output_type": "stream",
     "text": [
      "Variants after 10.0% subsetting: 26877\n"
     ]
    },
    {
     "name": "stdout",
     "output_type": "stream",
     "text": [
      "Samples with data: 142\n",
      "Females: 83\n",
      "Males: 59\n",
      "\n",
      "Statistical Results:\n",
      "Female mean ± std: 0.565 ± 0.041\n",
      "Male mean ± std: 0.025 ± 0.014\n",
      "Mann-Whitney p-value: 3.90e-24\n",
      "T-test p-value: 1.61e-130\n",
      "Cohen's d: 17.687\n"
     ]
    },
    {
     "name": "stdout",
     "output_type": "stream",
     "text": [
      "\n",
      "Classification Results:\n",
      "Accuracy: 1.000\n",
      "AUC-ROC: 1.000\n",
      "CV Mean ± Std: 1.000 ± 0.000\n",
      "\n",
      "Analyzing: DP>0_VAF>0_25pct\n",
      "--------------------------------------------------\n"
     ]
    },
    {
     "name": "stdout",
     "output_type": "stream",
     "text": [
      "Variants after DP>0 and VAF>0 filter: 269492\n"
     ]
    },
    {
     "name": "stdout",
     "output_type": "stream",
     "text": [
      "Variants after 25.0% subsetting: 67312\n"
     ]
    },
    {
     "name": "stdout",
     "output_type": "stream",
     "text": [
      "Samples with data: 142\n",
      "Females: 83\n",
      "Males: 59\n",
      "\n",
      "Statistical Results:\n",
      "Female mean ± std: 0.563 ± 0.031\n",
      "Male mean ± std: 0.023 ± 0.009\n",
      "Mann-Whitney p-value: 3.91e-24\n",
      "T-test p-value: 6.16e-148\n",
      "Cohen's d: 23.706\n"
     ]
    },
    {
     "name": "stdout",
     "output_type": "stream",
     "text": [
      "\n",
      "Classification Results:\n",
      "Accuracy: 1.000\n",
      "AUC-ROC: 1.000\n",
      "CV Mean ± Std: 1.000 ± 0.000\n",
      "\n",
      "Analyzing: DP>0_VAF>0_50pct\n",
      "--------------------------------------------------\n"
     ]
    },
    {
     "name": "stdout",
     "output_type": "stream",
     "text": [
      "Variants after DP>0 and VAF>0 filter: 269492\n"
     ]
    },
    {
     "name": "stdout",
     "output_type": "stream",
     "text": [
      "Variants after 50.0% subsetting: 134702\n"
     ]
    },
    {
     "name": "stdout",
     "output_type": "stream",
     "text": [
      "Samples with data: 142\n",
      "Females: 83\n",
      "Males: 59\n",
      "\n",
      "Statistical Results:\n",
      "Female mean ± std: 0.564 ± 0.026\n",
      "Male mean ± std: 0.023 ± 0.006\n",
      "Mann-Whitney p-value: 3.91e-24\n",
      "T-test p-value: 1.92e-158\n",
      "Cohen's d: 28.360\n"
     ]
    },
    {
     "name": "stdout",
     "output_type": "stream",
     "text": [
      "\n",
      "Classification Results:\n",
      "Accuracy: 1.000\n",
      "AUC-ROC: 1.000\n",
      "CV Mean ± Std: 1.000 ± 0.000\n",
      "\n",
      "Analyzing: DP>0_VAF>0_75pct\n",
      "--------------------------------------------------\n"
     ]
    },
    {
     "name": "stdout",
     "output_type": "stream",
     "text": [
      "Variants after DP>0 and VAF>0 filter: 269492\n"
     ]
    },
    {
     "name": "stdout",
     "output_type": "stream",
     "text": [
      "Variants after 75.0% subsetting: 202053\n"
     ]
    },
    {
     "name": "stdout",
     "output_type": "stream",
     "text": [
      "Samples with data: 142\n",
      "Females: 83\n",
      "Males: 59\n",
      "\n",
      "Statistical Results:\n",
      "Female mean ± std: 0.564 ± 0.026\n",
      "Male mean ± std: 0.023 ± 0.005\n",
      "Mann-Whitney p-value: 3.91e-24\n",
      "T-test p-value: 2.33e-159\n",
      "Cohen's d: 28.857\n"
     ]
    },
    {
     "name": "stdout",
     "output_type": "stream",
     "text": [
      "\n",
      "Classification Results:\n",
      "Accuracy: 1.000\n",
      "AUC-ROC: 1.000\n",
      "CV Mean ± Std: 1.000 ± 0.000\n",
      "\n",
      "Analyzing: DP>0_VAF>0_100pct\n",
      "--------------------------------------------------\n"
     ]
    },
    {
     "name": "stdout",
     "output_type": "stream",
     "text": [
      "Variants after DP>0 and VAF>0 filter: 269492\n",
      "Variants after 100.0% subsetting: 269492\n"
     ]
    },
    {
     "name": "stdout",
     "output_type": "stream",
     "text": [
      "Samples with data: 142\n",
      "Females: 83\n",
      "Males: 59\n",
      "\n",
      "Statistical Results:\n",
      "Female mean ± std: 0.564 ± 0.026\n",
      "Male mean ± std: 0.023 ± 0.004\n",
      "Mann-Whitney p-value: 3.91e-24\n",
      "T-test p-value: 7.40e-161\n",
      "Cohen's d: 29.605\n"
     ]
    },
    {
     "name": "stdout",
     "output_type": "stream",
     "text": [
      "\n",
      "Classification Results:\n",
      "Accuracy: 1.000\n",
      "AUC-ROC: 1.000\n",
      "CV Mean ± Std: 1.000 ± 0.000\n",
      "\n",
      "Analyzing: DP>0_VAF>0.25_1pct\n",
      "--------------------------------------------------\n"
     ]
    },
    {
     "name": "stdout",
     "output_type": "stream",
     "text": [
      "Variants after DP>0 and VAF>0.25 filter: 268146\n"
     ]
    },
    {
     "name": "stdout",
     "output_type": "stream",
     "text": [
      "Variants after 1.0% subsetting: 2598\n"
     ]
    },
    {
     "name": "stdout",
     "output_type": "stream",
     "text": [
      "Samples with data: 142\n",
      "Females: 83\n",
      "Males: 59\n",
      "\n",
      "Statistical Results:\n",
      "Female mean ± std: 0.558 ± 0.118\n",
      "Male mean ± std: 0.033 ± 0.060\n",
      "Mann-Whitney p-value: 1.10e-24\n",
      "T-test p-value: 2.44e-65\n",
      "Cohen's d: 5.617\n"
     ]
    },
    {
     "name": "stdout",
     "output_type": "stream",
     "text": [
      "\n",
      "Classification Results:\n",
      "Accuracy: 0.966\n",
      "AUC-ROC: 1.000\n",
      "CV Mean ± Std: 0.972 ± 0.034\n",
      "\n",
      "Analyzing: DP>0_VAF>0.25_5pct\n",
      "--------------------------------------------------\n"
     ]
    },
    {
     "name": "stdout",
     "output_type": "stream",
     "text": [
      "Variants after DP>0 and VAF>0.25 filter: 268146\n"
     ]
    },
    {
     "name": "stdout",
     "output_type": "stream",
     "text": [
      "Variants after 5.0% subsetting: 13330\n"
     ]
    },
    {
     "name": "stdout",
     "output_type": "stream",
     "text": [
      "Samples with data: 142\n",
      "Females: 83\n",
      "Males: 59\n",
      "\n",
      "Statistical Results:\n",
      "Female mean ± std: 0.559 ± 0.050\n",
      "Male mean ± std: 0.024 ± 0.020\n",
      "Mann-Whitney p-value: 3.70e-24\n",
      "T-test p-value: 1.67e-117\n",
      "Cohen's d: 14.137\n"
     ]
    },
    {
     "name": "stdout",
     "output_type": "stream",
     "text": [
      "\n",
      "Classification Results:\n",
      "Accuracy: 1.000\n",
      "AUC-ROC: 1.000\n",
      "CV Mean ± Std: 1.000 ± 0.000\n",
      "\n",
      "Analyzing: DP>0_VAF>0.25_10pct\n",
      "--------------------------------------------------\n"
     ]
    },
    {
     "name": "stdout",
     "output_type": "stream",
     "text": [
      "Variants after DP>0 and VAF>0.25 filter: 268146\n"
     ]
    },
    {
     "name": "stdout",
     "output_type": "stream",
     "text": [
      "Variants after 10.0% subsetting: 26741\n"
     ]
    },
    {
     "name": "stdout",
     "output_type": "stream",
     "text": [
      "Samples with data: 142\n",
      "Females: 83\n",
      "Males: 59\n",
      "\n",
      "Statistical Results:\n",
      "Female mean ± std: 0.563 ± 0.037\n",
      "Male mean ± std: 0.022 ± 0.015\n",
      "Mann-Whitney p-value: 3.90e-24\n",
      "T-test p-value: 4.58e-136\n",
      "Cohen's d: 19.291\n"
     ]
    },
    {
     "name": "stdout",
     "output_type": "stream",
     "text": [
      "\n",
      "Classification Results:\n",
      "Accuracy: 1.000\n",
      "AUC-ROC: 1.000\n",
      "CV Mean ± Std: 1.000 ± 0.000\n",
      "\n",
      "Analyzing: DP>0_VAF>0.25_25pct\n",
      "--------------------------------------------------\n"
     ]
    },
    {
     "name": "stdout",
     "output_type": "stream",
     "text": [
      "Variants after DP>0 and VAF>0.25 filter: 268146\n"
     ]
    },
    {
     "name": "stdout",
     "output_type": "stream",
     "text": [
      "Variants after 25.0% subsetting: 66971\n"
     ]
    },
    {
     "name": "stdout",
     "output_type": "stream",
     "text": [
      "Samples with data: 142\n",
      "Females: 83\n",
      "Males: 59\n",
      "\n",
      "Statistical Results:\n",
      "Female mean ± std: 0.560 ± 0.030\n",
      "Male mean ± std: 0.023 ± 0.007\n",
      "Mann-Whitney p-value: 3.91e-24\n",
      "T-test p-value: 4.98e-150\n",
      "Cohen's d: 24.627\n"
     ]
    },
    {
     "name": "stdout",
     "output_type": "stream",
     "text": [
      "\n",
      "Classification Results:\n",
      "Accuracy: 1.000\n",
      "AUC-ROC: 1.000\n",
      "CV Mean ± Std: 1.000 ± 0.000\n",
      "\n",
      "Analyzing: DP>0_VAF>0.25_50pct\n",
      "--------------------------------------------------\n"
     ]
    },
    {
     "name": "stdout",
     "output_type": "stream",
     "text": [
      "Variants after DP>0 and VAF>0.25 filter: 268146\n"
     ]
    },
    {
     "name": "stdout",
     "output_type": "stream",
     "text": [
      "Variants after 50.0% subsetting: 134030\n"
     ]
    },
    {
     "name": "stdout",
     "output_type": "stream",
     "text": [
      "Samples with data: 142\n",
      "Females: 83\n",
      "Males: 59\n",
      "\n",
      "Statistical Results:\n",
      "Female mean ± std: 0.560 ± 0.025\n",
      "Male mean ± std: 0.023 ± 0.006\n",
      "Mann-Whitney p-value: 3.91e-24\n",
      "T-test p-value: 2.73e-160\n",
      "Cohen's d: 29.231\n"
     ]
    },
    {
     "name": "stdout",
     "output_type": "stream",
     "text": [
      "\n",
      "Classification Results:\n",
      "Accuracy: 1.000\n",
      "AUC-ROC: 1.000\n",
      "CV Mean ± Std: 1.000 ± 0.000\n",
      "\n",
      "Analyzing: DP>0_VAF>0.25_75pct\n",
      "--------------------------------------------------\n"
     ]
    },
    {
     "name": "stdout",
     "output_type": "stream",
     "text": [
      "Variants after DP>0 and VAF>0.25 filter: 268146\n"
     ]
    },
    {
     "name": "stdout",
     "output_type": "stream",
     "text": [
      "Variants after 75.0% subsetting: 201045\n"
     ]
    },
    {
     "name": "stdout",
     "output_type": "stream",
     "text": [
      "Samples with data: 142\n",
      "Females: 83\n",
      "Males: 59\n",
      "\n",
      "Statistical Results:\n",
      "Female mean ± std: 0.560 ± 0.024\n",
      "Male mean ± std: 0.023 ± 0.004\n",
      "Mann-Whitney p-value: 3.91e-24\n",
      "T-test p-value: 2.16e-163\n",
      "Cohen's d: 30.832\n"
     ]
    },
    {
     "name": "stdout",
     "output_type": "stream",
     "text": [
      "\n",
      "Classification Results:\n",
      "Accuracy: 1.000\n",
      "AUC-ROC: 1.000\n",
      "CV Mean ± Std: 1.000 ± 0.000\n",
      "\n",
      "Analyzing: DP>0_VAF>0.25_100pct\n",
      "--------------------------------------------------\n"
     ]
    },
    {
     "name": "stdout",
     "output_type": "stream",
     "text": [
      "Variants after DP>0 and VAF>0.25 filter: 268146\n",
      "Variants after 100.0% subsetting: 268146\n"
     ]
    },
    {
     "name": "stdout",
     "output_type": "stream",
     "text": [
      "Samples with data: 142\n",
      "Females: 83\n",
      "Males: 59\n",
      "\n",
      "Statistical Results:\n",
      "Female mean ± std: 0.561 ± 0.026\n",
      "Male mean ± std: 0.022 ± 0.004\n",
      "Mann-Whitney p-value: 3.91e-24\n",
      "T-test p-value: 2.55e-160\n",
      "Cohen's d: 29.338\n"
     ]
    },
    {
     "name": "stdout",
     "output_type": "stream",
     "text": [
      "\n",
      "Classification Results:\n",
      "Accuracy: 1.000\n",
      "AUC-ROC: 1.000\n",
      "CV Mean ± Std: 1.000 ± 0.000\n",
      "\n",
      "Analyzing: DP>10_VAF>0_1pct\n",
      "--------------------------------------------------\n"
     ]
    },
    {
     "name": "stdout",
     "output_type": "stream",
     "text": [
      "Variants after DP>10 and VAF>0 filter: 218387\n"
     ]
    },
    {
     "name": "stdout",
     "output_type": "stream",
     "text": [
      "Variants after 1.0% subsetting: 2101\n"
     ]
    },
    {
     "name": "stdout",
     "output_type": "stream",
     "text": [
      "Samples with data: 142\n",
      "Females: 83\n",
      "Males: 59\n",
      "\n",
      "Statistical Results:\n",
      "Female mean ± std: 0.604 ± 0.128\n",
      "Male mean ± std: 0.030 ± 0.061\n",
      "Mann-Whitney p-value: 6.08e-25\n",
      "T-test p-value: 2.44e-66\n",
      "Cohen's d: 5.745\n"
     ]
    },
    {
     "name": "stdout",
     "output_type": "stream",
     "text": [
      "\n",
      "Classification Results:\n",
      "Accuracy: 1.000\n",
      "AUC-ROC: 1.000\n",
      "CV Mean ± Std: 0.993 ± 0.014\n",
      "\n",
      "Analyzing: DP>10_VAF>0_5pct\n",
      "--------------------------------------------------\n"
     ]
    },
    {
     "name": "stdout",
     "output_type": "stream",
     "text": [
      "Variants after DP>10 and VAF>0 filter: 218387\n"
     ]
    },
    {
     "name": "stdout",
     "output_type": "stream",
     "text": [
      "Variants after 5.0% subsetting: 10838\n"
     ]
    },
    {
     "name": "stdout",
     "output_type": "stream",
     "text": [
      "Samples with data: 142\n",
      "Females: 83\n",
      "Males: 59\n",
      "\n",
      "Statistical Results:\n",
      "Female mean ± std: 0.591 ± 0.055\n",
      "Male mean ± std: 0.023 ± 0.024\n",
      "Mann-Whitney p-value: 3.21e-24\n",
      "T-test p-value: 3.44e-114\n",
      "Cohen's d: 13.335\n"
     ]
    },
    {
     "name": "stdout",
     "output_type": "stream",
     "text": [
      "\n",
      "Classification Results:\n",
      "Accuracy: 1.000\n",
      "AUC-ROC: 1.000\n",
      "CV Mean ± Std: 1.000 ± 0.000\n",
      "\n",
      "Analyzing: DP>10_VAF>0_10pct\n",
      "--------------------------------------------------\n"
     ]
    },
    {
     "name": "stdout",
     "output_type": "stream",
     "text": [
      "Variants after DP>10 and VAF>0 filter: 218387\n"
     ]
    },
    {
     "name": "stdout",
     "output_type": "stream",
     "text": [
      "Variants after 10.0% subsetting: 21764\n"
     ]
    },
    {
     "name": "stdout",
     "output_type": "stream",
     "text": [
      "Samples with data: 142\n",
      "Females: 83\n",
      "Males: 59\n",
      "\n",
      "Statistical Results:\n",
      "Female mean ± std: 0.589 ± 0.048\n",
      "Male mean ± std: 0.025 ± 0.018\n",
      "Mann-Whitney p-value: 3.86e-24\n",
      "T-test p-value: 1.06e-122\n",
      "Cohen's d: 15.474\n"
     ]
    },
    {
     "name": "stdout",
     "output_type": "stream",
     "text": [
      "\n",
      "Classification Results:\n",
      "Accuracy: 1.000\n",
      "AUC-ROC: 1.000\n",
      "CV Mean ± Std: 1.000 ± 0.000\n",
      "\n",
      "Analyzing: DP>10_VAF>0_25pct\n",
      "--------------------------------------------------\n"
     ]
    },
    {
     "name": "stdout",
     "output_type": "stream",
     "text": [
      "Variants after DP>10 and VAF>0 filter: 218387\n"
     ]
    },
    {
     "name": "stdout",
     "output_type": "stream",
     "text": [
      "Variants after 25.0% subsetting: 54535\n"
     ]
    },
    {
     "name": "stdout",
     "output_type": "stream",
     "text": [
      "Samples with data: 142\n",
      "Females: 83\n",
      "Males: 59\n",
      "\n",
      "Statistical Results:\n",
      "Female mean ± std: 0.588 ± 0.035\n",
      "Male mean ± std: 0.025 ± 0.012\n",
      "Mann-Whitney p-value: 3.91e-24\n",
      "T-test p-value: 9.97e-143\n",
      "Cohen's d: 21.681\n"
     ]
    },
    {
     "name": "stdout",
     "output_type": "stream",
     "text": [
      "\n",
      "Classification Results:\n",
      "Accuracy: 1.000\n",
      "AUC-ROC: 1.000\n",
      "CV Mean ± Std: 1.000 ± 0.000\n",
      "\n",
      "Analyzing: DP>10_VAF>0_50pct\n",
      "--------------------------------------------------\n"
     ]
    },
    {
     "name": "stdout",
     "output_type": "stream",
     "text": [
      "Variants after DP>10 and VAF>0 filter: 218387\n"
     ]
    },
    {
     "name": "stdout",
     "output_type": "stream",
     "text": [
      "Variants after 50.0% subsetting: 109152\n"
     ]
    },
    {
     "name": "stdout",
     "output_type": "stream",
     "text": [
      "Samples with data: 142\n",
      "Females: 83\n",
      "Males: 59\n",
      "\n",
      "Statistical Results:\n",
      "Female mean ± std: 0.588 ± 0.031\n",
      "Male mean ± std: 0.024 ± 0.007\n",
      "Mann-Whitney p-value: 3.91e-24\n",
      "T-test p-value: 1.01e-151\n",
      "Cohen's d: 25.361\n"
     ]
    },
    {
     "name": "stdout",
     "output_type": "stream",
     "text": [
      "\n",
      "Classification Results:\n",
      "Accuracy: 1.000\n",
      "AUC-ROC: 1.000\n",
      "CV Mean ± Std: 1.000 ± 0.000\n",
      "\n",
      "Analyzing: DP>10_VAF>0_75pct\n",
      "--------------------------------------------------\n"
     ]
    },
    {
     "name": "stdout",
     "output_type": "stream",
     "text": [
      "Variants after DP>10 and VAF>0 filter: 218387\n"
     ]
    },
    {
     "name": "stdout",
     "output_type": "stream",
     "text": [
      "Variants after 75.0% subsetting: 163728\n"
     ]
    },
    {
     "name": "stdout",
     "output_type": "stream",
     "text": [
      "Samples with data: 142\n",
      "Females: 83\n",
      "Males: 59\n",
      "\n",
      "Statistical Results:\n",
      "Female mean ± std: 0.586 ± 0.028\n",
      "Male mean ± std: 0.024 ± 0.005\n",
      "Mann-Whitney p-value: 3.91e-24\n",
      "T-test p-value: 3.87e-157\n",
      "Cohen's d: 27.784\n"
     ]
    },
    {
     "name": "stdout",
     "output_type": "stream",
     "text": [
      "\n",
      "Classification Results:\n",
      "Accuracy: 1.000\n",
      "AUC-ROC: 1.000\n",
      "CV Mean ± Std: 1.000 ± 0.000\n",
      "\n",
      "Analyzing: DP>10_VAF>0_100pct\n",
      "--------------------------------------------------\n"
     ]
    },
    {
     "name": "stdout",
     "output_type": "stream",
     "text": [
      "Variants after DP>10 and VAF>0 filter: 218387\n",
      "Variants after 100.0% subsetting: 218387\n"
     ]
    },
    {
     "name": "stdout",
     "output_type": "stream",
     "text": [
      "Samples with data: 142\n",
      "Females: 83\n",
      "Males: 59\n",
      "\n",
      "Statistical Results:\n",
      "Female mean ± std: 0.585 ± 0.026\n",
      "Male mean ± std: 0.023 ± 0.005\n",
      "Mann-Whitney p-value: 3.91e-24\n",
      "T-test p-value: 7.90e-161\n",
      "Cohen's d: 29.521\n"
     ]
    },
    {
     "name": "stdout",
     "output_type": "stream",
     "text": [
      "\n",
      "Classification Results:\n",
      "Accuracy: 1.000\n",
      "AUC-ROC: 1.000\n",
      "CV Mean ± Std: 1.000 ± 0.000\n",
      "\n",
      "Analyzing: DP>10_VAF>0.25_1pct\n",
      "--------------------------------------------------\n"
     ]
    },
    {
     "name": "stdout",
     "output_type": "stream",
     "text": [
      "Variants after DP>10 and VAF>0.25 filter: 217364\n"
     ]
    },
    {
     "name": "stdout",
     "output_type": "stream",
     "text": [
      "Variants after 1.0% subsetting: 2093\n"
     ]
    },
    {
     "name": "stdout",
     "output_type": "stream",
     "text": [
      "Samples with data: 142\n",
      "Females: 83\n",
      "Males: 59\n",
      "\n",
      "Statistical Results:\n",
      "Female mean ± std: 0.583 ± 0.114\n",
      "Male mean ± std: 0.020 ± 0.049\n",
      "Mann-Whitney p-value: 3.40e-25\n",
      "T-test p-value: 3.99e-72\n",
      "Cohen's d: 6.423\n"
     ]
    },
    {
     "name": "stdout",
     "output_type": "stream",
     "text": [
      "\n",
      "Classification Results:\n",
      "Accuracy: 1.000\n",
      "AUC-ROC: 1.000\n",
      "CV Mean ± Std: 1.000 ± 0.000\n",
      "\n",
      "Analyzing: DP>10_VAF>0.25_5pct\n",
      "--------------------------------------------------\n"
     ]
    },
    {
     "name": "stdout",
     "output_type": "stream",
     "text": [
      "Variants after DP>10 and VAF>0.25 filter: 217364\n"
     ]
    },
    {
     "name": "stdout",
     "output_type": "stream",
     "text": [
      "Variants after 5.0% subsetting: 10797\n"
     ]
    },
    {
     "name": "stdout",
     "output_type": "stream",
     "text": [
      "Samples with data: 142\n",
      "Females: 83\n",
      "Males: 59\n",
      "\n",
      "Statistical Results:\n",
      "Female mean ± std: 0.588 ± 0.050\n",
      "Male mean ± std: 0.024 ± 0.026\n",
      "Mann-Whitney p-value: 3.21e-24\n",
      "T-test p-value: 9.14e-119\n",
      "Cohen's d: 14.283\n"
     ]
    },
    {
     "name": "stdout",
     "output_type": "stream",
     "text": [
      "\n",
      "Classification Results:\n",
      "Accuracy: 1.000\n",
      "AUC-ROC: 1.000\n",
      "CV Mean ± Std: 1.000 ± 0.000\n",
      "\n",
      "Analyzing: DP>10_VAF>0.25_10pct\n",
      "--------------------------------------------------\n"
     ]
    },
    {
     "name": "stdout",
     "output_type": "stream",
     "text": [
      "Variants after DP>10 and VAF>0.25 filter: 217364\n"
     ]
    },
    {
     "name": "stdout",
     "output_type": "stream",
     "text": [
      "Variants after 10.0% subsetting: 21661\n"
     ]
    },
    {
     "name": "stdout",
     "output_type": "stream",
     "text": [
      "Samples with data: 142\n",
      "Females: 83\n",
      "Males: 59\n",
      "\n",
      "Statistical Results:\n",
      "Female mean ± std: 0.585 ± 0.043\n",
      "Male mean ± std: 0.023 ± 0.018\n",
      "Mann-Whitney p-value: 3.87e-24\n",
      "T-test p-value: 7.89e-129\n",
      "Cohen's d: 17.075\n"
     ]
    },
    {
     "name": "stdout",
     "output_type": "stream",
     "text": [
      "\n",
      "Classification Results:\n",
      "Accuracy: 1.000\n",
      "AUC-ROC: 1.000\n",
      "CV Mean ± Std: 1.000 ± 0.000\n",
      "\n",
      "Analyzing: DP>10_VAF>0.25_25pct\n",
      "--------------------------------------------------\n"
     ]
    },
    {
     "name": "stdout",
     "output_type": "stream",
     "text": [
      "Variants after DP>10 and VAF>0.25 filter: 217364\n"
     ]
    },
    {
     "name": "stdout",
     "output_type": "stream",
     "text": [
      "Variants after 25.0% subsetting: 54278\n"
     ]
    },
    {
     "name": "stdout",
     "output_type": "stream",
     "text": [
      "Samples with data: 142\n",
      "Females: 83\n",
      "Males: 59\n",
      "\n",
      "Statistical Results:\n",
      "Female mean ± std: 0.585 ± 0.033\n",
      "Male mean ± std: 0.024 ± 0.010\n",
      "Mann-Whitney p-value: 3.91e-24\n",
      "T-test p-value: 1.73e-145\n",
      "Cohen's d: 22.752\n"
     ]
    },
    {
     "name": "stdout",
     "output_type": "stream",
     "text": [
      "\n",
      "Classification Results:\n",
      "Accuracy: 1.000\n",
      "AUC-ROC: 1.000\n",
      "CV Mean ± Std: 1.000 ± 0.000\n",
      "\n",
      "Analyzing: DP>10_VAF>0.25_50pct\n",
      "--------------------------------------------------\n"
     ]
    },
    {
     "name": "stdout",
     "output_type": "stream",
     "text": [
      "Variants after DP>10 and VAF>0.25 filter: 217364\n"
     ]
    },
    {
     "name": "stdout",
     "output_type": "stream",
     "text": [
      "Variants after 50.0% subsetting: 108642\n"
     ]
    },
    {
     "name": "stdout",
     "output_type": "stream",
     "text": [
      "Samples with data: 142\n",
      "Females: 83\n",
      "Males: 59\n",
      "\n",
      "Statistical Results:\n",
      "Female mean ± std: 0.585 ± 0.029\n",
      "Male mean ± std: 0.024 ± 0.007\n",
      "Mann-Whitney p-value: 3.91e-24\n",
      "T-test p-value: 9.63e-155\n",
      "Cohen's d: 26.623\n"
     ]
    },
    {
     "name": "stdout",
     "output_type": "stream",
     "text": [
      "\n",
      "Classification Results:\n",
      "Accuracy: 1.000\n",
      "AUC-ROC: 1.000\n",
      "CV Mean ± Std: 1.000 ± 0.000\n",
      "\n",
      "Analyzing: DP>10_VAF>0.25_75pct\n",
      "--------------------------------------------------\n"
     ]
    },
    {
     "name": "stdout",
     "output_type": "stream",
     "text": [
      "Variants after DP>10 and VAF>0.25 filter: 217364\n"
     ]
    },
    {
     "name": "stdout",
     "output_type": "stream",
     "text": [
      "Variants after 75.0% subsetting: 162954\n"
     ]
    },
    {
     "name": "stdout",
     "output_type": "stream",
     "text": [
      "Samples with data: 142\n",
      "Females: 83\n",
      "Males: 59\n",
      "\n",
      "Statistical Results:\n",
      "Female mean ± std: 0.584 ± 0.027\n",
      "Male mean ± std: 0.023 ± 0.006\n",
      "Mann-Whitney p-value: 3.91e-24\n",
      "T-test p-value: 4.66e-160\n",
      "Cohen's d: 29.097\n"
     ]
    },
    {
     "name": "stdout",
     "output_type": "stream",
     "text": [
      "\n",
      "Classification Results:\n",
      "Accuracy: 1.000\n",
      "AUC-ROC: 1.000\n",
      "CV Mean ± Std: 1.000 ± 0.000\n",
      "\n",
      "Analyzing: DP>10_VAF>0.25_100pct\n",
      "--------------------------------------------------\n"
     ]
    },
    {
     "name": "stdout",
     "output_type": "stream",
     "text": [
      "Variants after DP>10 and VAF>0.25 filter: 217364\n",
      "Variants after 100.0% subsetting: 217364\n"
     ]
    },
    {
     "name": "stdout",
     "output_type": "stream",
     "text": [
      "Samples with data: 142\n",
      "Females: 83\n",
      "Males: 59\n",
      "\n",
      "Statistical Results:\n",
      "Female mean ± std: 0.582 ± 0.027\n",
      "Male mean ± std: 0.022 ± 0.005\n",
      "Mann-Whitney p-value: 3.91e-24\n",
      "T-test p-value: 3.20e-160\n",
      "Cohen's d: 29.220\n"
     ]
    },
    {
     "name": "stdout",
     "output_type": "stream",
     "text": [
      "\n",
      "Classification Results:\n",
      "Accuracy: 1.000\n",
      "AUC-ROC: 1.000\n",
      "CV Mean ± Std: 1.000 ± 0.000\n",
      "\n",
      "Analyzing: DP>20_VAF>0_1pct\n",
      "--------------------------------------------------\n"
     ]
    },
    {
     "name": "stdout",
     "output_type": "stream",
     "text": [
      "Variants after DP>20 and VAF>0 filter: 166810\n"
     ]
    },
    {
     "name": "stdout",
     "output_type": "stream",
     "text": [
      "Variants after 1.0% subsetting: 1591\n"
     ]
    },
    {
     "name": "stdout",
     "output_type": "stream",
     "text": [
      "Samples with data: 142\n",
      "Females: 83\n",
      "Males: 59\n",
      "\n",
      "Statistical Results:\n",
      "Female mean ± std: 0.585 ± 0.160\n",
      "Male mean ± std: 0.037 ± 0.104\n",
      "Mann-Whitney p-value: 2.79e-24\n",
      "T-test p-value: 1.93e-49\n",
      "Cohen's d: 4.055\n"
     ]
    },
    {
     "name": "stdout",
     "output_type": "stream",
     "text": [
      "\n",
      "Classification Results:\n",
      "Accuracy: 1.000\n",
      "AUC-ROC: 1.000\n",
      "CV Mean ± Std: 0.972 ± 0.034\n",
      "\n",
      "Analyzing: DP>20_VAF>0_5pct\n",
      "--------------------------------------------------\n",
      "Variants after DP>20 and VAF>0 filter: 166810"
     ]
    },
    {
     "name": "stdout",
     "output_type": "stream",
     "text": [
      "\n"
     ]
    },
    {
     "name": "stdout",
     "output_type": "stream",
     "text": [
      "Variants after 5.0% subsetting: 8268\n"
     ]
    },
    {
     "name": "stdout",
     "output_type": "stream",
     "text": [
      "Samples with data: 142\n",
      "Females: 83\n",
      "Males: 59\n",
      "\n",
      "Statistical Results:\n",
      "Female mean ± std: 0.586 ± 0.074\n",
      "Male mean ± std: 0.029 ± 0.032\n",
      "Mann-Whitney p-value: 2.83e-24\n",
      "T-test p-value: 3.65e-96\n",
      "Cohen's d: 9.817\n"
     ]
    },
    {
     "name": "stdout",
     "output_type": "stream",
     "text": [
      "\n",
      "Classification Results:\n",
      "Accuracy: 1.000\n",
      "AUC-ROC: 1.000\n",
      "CV Mean ± Std: 1.000 ± 0.000\n",
      "\n",
      "Analyzing: DP>20_VAF>0_10pct\n",
      "--------------------------------------------------\n"
     ]
    },
    {
     "name": "stdout",
     "output_type": "stream",
     "text": [
      "Variants after DP>20 and VAF>0 filter: 166810\n"
     ]
    },
    {
     "name": "stdout",
     "output_type": "stream",
     "text": [
      "Variants after 10.0% subsetting: 16612\n"
     ]
    },
    {
     "name": "stdout",
     "output_type": "stream",
     "text": [
      "Samples with data: 142\n",
      "Females: 83\n",
      "Males: 59\n",
      "\n",
      "Statistical Results:\n",
      "Female mean ± std: 0.584 ± 0.055\n",
      "Male mean ± std: 0.027 ± 0.024\n",
      "Mann-Whitney p-value: 3.63e-24\n",
      "T-test p-value: 3.57e-113\n",
      "Cohen's d: 13.101\n"
     ]
    },
    {
     "name": "stdout",
     "output_type": "stream",
     "text": [
      "\n",
      "Classification Results:\n",
      "Accuracy: 1.000\n",
      "AUC-ROC: 1.000\n",
      "CV Mean ± Std: 1.000 ± 0.000\n",
      "\n",
      "Analyzing: DP>20_VAF>0_25pct\n",
      "--------------------------------------------------\n",
      "Variants after DP>20 and VAF>0 filter: 166810\n"
     ]
    },
    {
     "name": "stdout",
     "output_type": "stream",
     "text": [
      "Variants after 25.0% subsetting: 41639\n"
     ]
    },
    {
     "name": "stdout",
     "output_type": "stream",
     "text": [
      "Samples with data: 142\n",
      "Females: 83\n",
      "Males: 59\n",
      "\n",
      "Statistical Results:\n",
      "Female mean ± std: 0.578 ± 0.038\n",
      "Male mean ± std: 0.026 ± 0.015\n",
      "Mann-Whitney p-value: 3.91e-24\n",
      "T-test p-value: 1.88e-135\n",
      "Cohen's d: 19.114\n"
     ]
    },
    {
     "name": "stdout",
     "output_type": "stream",
     "text": [
      "\n",
      "Classification Results:\n",
      "Accuracy: 1.000\n",
      "AUC-ROC: 1.000\n",
      "CV Mean ± Std: 1.000 ± 0.000\n",
      "\n",
      "Analyzing: DP>20_VAF>0_50pct\n",
      "--------------------------------------------------\n",
      "Variants after DP>20 and VAF>0 filter: 166810\n"
     ]
    },
    {
     "name": "stdout",
     "output_type": "stream",
     "text": [
      "Variants after 50.0% subsetting: 83363\n"
     ]
    },
    {
     "name": "stdout",
     "output_type": "stream",
     "text": [
      "Samples with data: 142\n",
      "Females: 83\n",
      "Males: 59\n",
      "\n",
      "Statistical Results:\n",
      "Female mean ± std: 0.582 ± 0.031\n",
      "Male mean ± std: 0.023 ± 0.010\n",
      "Mann-Whitney p-value: 3.91e-24\n",
      "T-test p-value: 7.61e-149\n",
      "Cohen's d: 24.013\n"
     ]
    },
    {
     "name": "stdout",
     "output_type": "stream",
     "text": [
      "\n",
      "Classification Results:\n",
      "Accuracy: 1.000\n",
      "AUC-ROC: 1.000\n",
      "CV Mean ± Std: 1.000 ± 0.000\n",
      "\n",
      "Analyzing: DP>20_VAF>0_75pct\n",
      "--------------------------------------------------\n"
     ]
    },
    {
     "name": "stdout",
     "output_type": "stream",
     "text": [
      "Variants after DP>20 and VAF>0 filter: 166810\n"
     ]
    },
    {
     "name": "stdout",
     "output_type": "stream",
     "text": [
      "Variants after 75.0% subsetting: 125046\n"
     ]
    },
    {
     "name": "stdout",
     "output_type": "stream",
     "text": [
      "Samples with data: 142\n",
      "Females: 83\n",
      "Males: 59\n",
      "\n",
      "Statistical Results:\n",
      "Female mean ± std: 0.584 ± 0.028\n",
      "Male mean ± std: 0.024 ± 0.009\n",
      "Mann-Whitney p-value: 3.91e-24\n",
      "T-test p-value: 2.39e-156\n",
      "Cohen's d: 27.216\n"
     ]
    },
    {
     "name": "stdout",
     "output_type": "stream",
     "text": [
      "\n",
      "Classification Results:\n",
      "Accuracy: 1.000\n",
      "AUC-ROC: 1.000\n",
      "CV Mean ± Std: 1.000 ± 0.000\n",
      "\n",
      "Analyzing: DP>20_VAF>0_100pct\n",
      "--------------------------------------------------\n"
     ]
    },
    {
     "name": "stdout",
     "output_type": "stream",
     "text": [
      "Variants after DP>20 and VAF>0 filter: 166810\n",
      "Variants after 100.0% subsetting: 166810\n"
     ]
    },
    {
     "name": "stdout",
     "output_type": "stream",
     "text": [
      "Samples with data: 142\n",
      "Females: 83\n",
      "Males: 59\n",
      "\n",
      "Statistical Results:\n",
      "Female mean ± std: 0.583 ± 0.026\n",
      "Male mean ± std: 0.024 ± 0.008\n",
      "Mann-Whitney p-value: 3.91e-24\n",
      "T-test p-value: 1.07e-159\n",
      "Cohen's d: 28.757\n"
     ]
    },
    {
     "name": "stdout",
     "output_type": "stream",
     "text": [
      "\n",
      "Classification Results:\n",
      "Accuracy: 1.000\n",
      "AUC-ROC: 1.000\n",
      "CV Mean ± Std: 1.000 ± 0.000\n",
      "\n",
      "Analyzing: DP>20_VAF>0.25_1pct\n",
      "--------------------------------------------------\n",
      "Variants after DP>20 and VAF>0.25 filter: 166312\n"
     ]
    },
    {
     "name": "stdout",
     "output_type": "stream",
     "text": [
      "Variants after 1.0% subsetting: 1585\n"
     ]
    },
    {
     "name": "stdout",
     "output_type": "stream",
     "text": [
      "Samples with data: 142\n",
      "Females: 83\n",
      "Males: 59\n",
      "\n",
      "Statistical Results:\n",
      "Female mean ± std: 0.580 ± 0.131\n",
      "Male mean ± std: 0.017 ± 0.056\n",
      "Mann-Whitney p-value: 1.90e-25\n",
      "T-test p-value: 1.18e-64\n",
      "Cohen's d: 5.592\n"
     ]
    },
    {
     "name": "stdout",
     "output_type": "stream",
     "text": [
      "\n",
      "Classification Results:\n",
      "Accuracy: 1.000\n",
      "AUC-ROC: 1.000\n",
      "CV Mean ± Std: 0.986 ± 0.017\n",
      "\n",
      "Analyzing: DP>20_VAF>0.25_5pct\n",
      "--------------------------------------------------\n",
      "Variants after DP>20 and VAF>0.25 filter: 166312\n"
     ]
    },
    {
     "name": "stdout",
     "output_type": "stream",
     "text": [
      "Variants after 5.0% subsetting: 8234\n"
     ]
    },
    {
     "name": "stdout",
     "output_type": "stream",
     "text": [
      "Samples with data: 142\n",
      "Females: 83\n",
      "Males: 59\n",
      "\n",
      "Statistical Results:\n",
      "Female mean ± std: 0.575 ± 0.063\n",
      "Male mean ± std: 0.021 ± 0.024\n",
      "Mann-Whitney p-value: 2.26e-24\n",
      "T-test p-value: 1.56e-105\n",
      "Cohen's d: 11.570\n"
     ]
    },
    {
     "name": "stdout",
     "output_type": "stream",
     "text": [
      "\n",
      "Classification Results:\n",
      "Accuracy: 1.000\n",
      "AUC-ROC: 1.000\n",
      "CV Mean ± Std: 1.000 ± 0.000\n",
      "\n",
      "Analyzing: DP>20_VAF>0.25_10pct\n",
      "--------------------------------------------------\n"
     ]
    },
    {
     "name": "stdout",
     "output_type": "stream",
     "text": [
      "Variants after DP>20 and VAF>0.25 filter: 166312\n"
     ]
    },
    {
     "name": "stdout",
     "output_type": "stream",
     "text": [
      "Variants after 10.0% subsetting: 16552\n"
     ]
    },
    {
     "name": "stdout",
     "output_type": "stream",
     "text": [
      "Samples with data: 142\n",
      "Females: 83\n",
      "Males: 59\n",
      "\n",
      "Statistical Results:\n",
      "Female mean ± std: 0.579 ± 0.047\n",
      "Male mean ± std: 0.022 ± 0.018\n",
      "Mann-Whitney p-value: 3.58e-24\n",
      "T-test p-value: 1.12e-123\n",
      "Cohen's d: 15.711\n"
     ]
    },
    {
     "name": "stdout",
     "output_type": "stream",
     "text": [
      "\n",
      "Classification Results:\n",
      "Accuracy: 1.000\n",
      "AUC-ROC: 1.000\n",
      "CV Mean ± Std: 1.000 ± 0.000\n",
      "\n",
      "Analyzing: DP>20_VAF>0.25_25pct\n",
      "--------------------------------------------------\n"
     ]
    },
    {
     "name": "stdout",
     "output_type": "stream",
     "text": [
      "Variants after DP>20 and VAF>0.25 filter: 166312\n"
     ]
    },
    {
     "name": "stdout",
     "output_type": "stream",
     "text": [
      "Variants after 25.0% subsetting: 41516\n"
     ]
    },
    {
     "name": "stdout",
     "output_type": "stream",
     "text": [
      "Samples with data: 142\n",
      "Females: 83\n",
      "Males: 59\n",
      "\n",
      "Statistical Results:\n",
      "Female mean ± std: 0.580 ± 0.037\n",
      "Male mean ± std: 0.021 ± 0.014\n",
      "Mann-Whitney p-value: 3.91e-24\n",
      "T-test p-value: 1.77e-138\n",
      "Cohen's d: 20.141\n"
     ]
    },
    {
     "name": "stdout",
     "output_type": "stream",
     "text": [
      "\n",
      "Classification Results:\n",
      "Accuracy: 1.000\n",
      "AUC-ROC: 1.000\n",
      "CV Mean ± Std: 1.000 ± 0.000\n",
      "\n",
      "Analyzing: DP>20_VAF>0.25_50pct\n",
      "--------------------------------------------------\n"
     ]
    },
    {
     "name": "stdout",
     "output_type": "stream",
     "text": [
      "Variants after DP>20 and VAF>0.25 filter: 166312\n"
     ]
    },
    {
     "name": "stdout",
     "output_type": "stream",
     "text": [
      "Variants after 50.0% subsetting: 83110\n"
     ]
    },
    {
     "name": "stdout",
     "output_type": "stream",
     "text": [
      "Samples with data: 142\n",
      "Females: 83\n",
      "Males: 59\n",
      "\n",
      "Statistical Results:\n",
      "Female mean ± std: 0.583 ± 0.031\n",
      "Male mean ± std: 0.022 ± 0.012\n",
      "Mann-Whitney p-value: 3.91e-24\n",
      "T-test p-value: 1.12e-148\n",
      "Cohen's d: 23.809\n"
     ]
    },
    {
     "name": "stdout",
     "output_type": "stream",
     "text": [
      "\n",
      "Classification Results:\n",
      "Accuracy: 1.000\n",
      "AUC-ROC: 1.000\n",
      "CV Mean ± Std: 1.000 ± 0.000\n",
      "\n",
      "Analyzing: DP>20_VAF>0.25_75pct\n",
      "--------------------------------------------------\n"
     ]
    },
    {
     "name": "stdout",
     "output_type": "stream",
     "text": [
      "Variants after DP>20 and VAF>0.25 filter: 166312\n"
     ]
    },
    {
     "name": "stdout",
     "output_type": "stream",
     "text": [
      "Variants after 75.0% subsetting: 124670\n"
     ]
    },
    {
     "name": "stdout",
     "output_type": "stream",
     "text": [
      "Samples with data: 142\n",
      "Females: 83\n",
      "Males: 59\n",
      "\n",
      "Statistical Results:\n",
      "Female mean ± std: 0.582 ± 0.027\n",
      "Male mean ± std: 0.023 ± 0.009\n",
      "Mann-Whitney p-value: 3.91e-24\n",
      "T-test p-value: 9.91e-157\n",
      "Cohen's d: 27.349\n"
     ]
    },
    {
     "name": "stdout",
     "output_type": "stream",
     "text": [
      "\n",
      "Classification Results:\n",
      "Accuracy: 1.000\n",
      "AUC-ROC: 1.000\n",
      "CV Mean ± Std: 1.000 ± 0.000\n",
      "\n",
      "Analyzing: DP>20_VAF>0.25_100pct\n",
      "--------------------------------------------------\n"
     ]
    },
    {
     "name": "stdout",
     "output_type": "stream",
     "text": [
      "Variants after DP>20 and VAF>0.25 filter: 166312\n",
      "Variants after 100.0% subsetting: 166312\n"
     ]
    },
    {
     "name": "stdout",
     "output_type": "stream",
     "text": [
      "Samples with data: 142\n",
      "Females: 83\n",
      "Males: 59\n",
      "\n",
      "Statistical Results:\n",
      "Female mean ± std: 0.582 ± 0.026\n",
      "Male mean ± std: 0.023 ± 0.008\n",
      "Mann-Whitney p-value: 3.91e-24\n",
      "T-test p-value: 2.51e-159\n",
      "Cohen's d: 28.586\n"
     ]
    },
    {
     "name": "stdout",
     "output_type": "stream",
     "text": [
      "\n",
      "Classification Results:\n",
      "Accuracy: 1.000\n",
      "AUC-ROC: 1.000\n",
      "CV Mean ± Std: 1.000 ± 0.000\n",
      "\n",
      "====================================================================================================\n",
      "ANALYSIS SUMMARY\n",
      "====================================================================================================\n",
      "            Condition  N_Samples  N_Variants_Subset Female_Mean_Het_Ratio Male_Mean_Het_Ratio Cohens_D MW_pvalue T_test_pvalue Accuracy AUC_ROC CV_Mean Female_Threshold Male_Threshold Female_Threshold_CI Male_Threshold_CI Midpoint_Threshold\n",
      "      DP>0_VAF>0_1pct        142               2613                  0.57                0.02    6.922  7.59e-25      4.70e-76     1.00    1.00    1.00             0.46           0.06        [0.44, 0.48]    [0.053, 0.073]               0.26\n",
      "      DP>0_VAF>0_5pct        142              13395                  0.56                0.03   13.655  3.81e-24     2.82e-115     1.00    1.00    1.00             0.51           0.05        [0.50, 0.52]    [0.040, 0.050]               0.28\n",
      "     DP>0_VAF>0_10pct        142              26877                  0.56                0.02   17.687  3.90e-24     1.61e-130     1.00    1.00    1.00             0.52           0.04        [0.51, 0.53]    [0.035, 0.042]               0.28\n",
      "     DP>0_VAF>0_25pct        142              67312                  0.56                0.02   23.706  3.91e-24     6.16e-148     1.00    1.00    1.00             0.53           0.03        [0.53, 0.54]    [0.030, 0.034]               0.28\n",
      "     DP>0_VAF>0_50pct        142             134702                  0.56                0.02   28.360  3.91e-24     1.92e-158     1.00    1.00    1.00             0.54           0.03        [0.53, 0.54]    [0.027, 0.030]               0.28\n",
      "     DP>0_VAF>0_75pct        142             202053                  0.56                0.02   28.857  3.91e-24     2.33e-159     1.00    1.00    1.00             0.54           0.03        [0.53, 0.54]    [0.026, 0.029]               0.28\n",
      "    DP>0_VAF>0_100pct        142             269492                  0.56                0.02   29.605  3.91e-24     7.40e-161     1.00    1.00    1.00             0.54           0.03        [0.53, 0.54]    [0.026, 0.028]               0.28\n",
      "   DP>0_VAF>0.25_1pct        142               2598                  0.56                0.03    5.617  1.10e-24      2.44e-65     0.97    1.00    0.97             0.44           0.09        [0.41, 0.47]    [0.079, 0.109]               0.27\n",
      "   DP>0_VAF>0.25_5pct        142              13330                  0.56                0.02   14.137  3.70e-24     1.67e-117     1.00    1.00    1.00             0.51           0.04        [0.50, 0.52]    [0.039, 0.049]               0.28\n",
      "  DP>0_VAF>0.25_10pct        142              26741                  0.56                0.02   19.291  3.90e-24     4.58e-136     1.00    1.00    1.00             0.53           0.04        [0.52, 0.53]    [0.033, 0.040]               0.28\n",
      "  DP>0_VAF>0.25_25pct        142              66971                  0.56                0.02   24.627  3.91e-24     4.98e-150     1.00    1.00    1.00             0.53           0.03        [0.52, 0.54]    [0.029, 0.032]               0.28\n",
      "  DP>0_VAF>0.25_50pct        142             134030                  0.56                0.02   29.231  3.91e-24     2.73e-160     1.00    1.00    1.00             0.53           0.03        [0.53, 0.54]    [0.027, 0.030]               0.28\n",
      "  DP>0_VAF>0.25_75pct        142             201045                  0.56                0.02   30.832  3.91e-24     2.16e-163     1.00    1.00    1.00             0.54           0.03        [0.53, 0.54]    [0.026, 0.028]               0.28\n",
      " DP>0_VAF>0.25_100pct        142             268146                  0.56                0.02   29.338  3.91e-24     2.55e-160     1.00    1.00    1.00             0.54           0.03        [0.53, 0.54]    [0.025, 0.027]               0.28\n",
      "     DP>10_VAF>0_1pct        142               2101                  0.60                0.03    5.745  6.08e-25      2.44e-66     1.00    1.00    0.99             0.48           0.09        [0.45, 0.50]    [0.076, 0.107]               0.28\n",
      "     DP>10_VAF>0_5pct        142              10838                  0.59                0.02   13.335  3.21e-24     3.44e-114     1.00    1.00    1.00             0.54           0.05        [0.52, 0.55]    [0.041, 0.053]               0.29\n",
      "    DP>10_VAF>0_10pct        142              21764                  0.59                0.02   15.474  3.86e-24     1.06e-122     1.00    1.00    1.00             0.54           0.04        [0.53, 0.55]    [0.038, 0.047]               0.29\n",
      "    DP>10_VAF>0_25pct        142              54535                  0.59                0.02   21.681  3.91e-24     9.97e-143     1.00    1.00    1.00             0.55           0.04        [0.55, 0.56]    [0.034, 0.039]               0.29\n",
      "    DP>10_VAF>0_50pct        142             109152                  0.59                0.02   25.361  3.91e-24     1.01e-151     1.00    1.00    1.00             0.56           0.03        [0.55, 0.56]    [0.029, 0.032]               0.29\n",
      "    DP>10_VAF>0_75pct        142             163728                  0.59                0.02   27.784  3.91e-24     3.87e-157     1.00    1.00    1.00             0.56           0.03        [0.55, 0.56]    [0.028, 0.030]               0.29\n",
      "   DP>10_VAF>0_100pct        142             218387                  0.59                0.02   29.521  3.91e-24     7.90e-161     1.00    1.00    1.00             0.56           0.03        [0.55, 0.56]    [0.027, 0.030]               0.29\n",
      "  DP>10_VAF>0.25_1pct        142               2093                  0.58                0.02    6.423  3.40e-25      3.99e-72     1.00    1.00    1.00             0.47           0.07        [0.44, 0.49]    [0.057, 0.081]               0.27\n",
      "  DP>10_VAF>0.25_5pct        142              10797                  0.59                0.02   14.283  3.21e-24     9.14e-119     1.00    1.00    1.00             0.54           0.05        [0.53, 0.55]    [0.043, 0.056]               0.29\n",
      " DP>10_VAF>0.25_10pct        142              21661                  0.58                0.02   17.075  3.87e-24     7.89e-129     1.00    1.00    1.00             0.54           0.04        [0.53, 0.55]    [0.036, 0.045]               0.29\n",
      " DP>10_VAF>0.25_25pct        142              54278                  0.59                0.02   22.752  3.91e-24     1.73e-145     1.00    1.00    1.00             0.55           0.03        [0.54, 0.56]    [0.032, 0.037]               0.29\n",
      " DP>10_VAF>0.25_50pct        142             108642                  0.59                0.02   26.623  3.91e-24     9.63e-155     1.00    1.00    1.00             0.56           0.03        [0.55, 0.56]    [0.029, 0.033]               0.29\n",
      " DP>10_VAF>0.25_75pct        142             162954                  0.58                0.02   29.097  3.91e-24     4.66e-160     1.00    1.00    1.00             0.56           0.03        [0.55, 0.56]    [0.027, 0.031]               0.29\n",
      "DP>10_VAF>0.25_100pct        142             217364                  0.58                0.02   29.220  3.91e-24     3.20e-160     1.00    1.00    1.00             0.56           0.03        [0.55, 0.56]    [0.027, 0.029]               0.29\n",
      "     DP>20_VAF>0_1pct        142               1591                  0.58                0.04    4.055  2.79e-24      1.93e-49     1.00    1.00    0.97             0.42           0.14        [0.39, 0.46]    [0.119, 0.170]               0.28\n",
      "     DP>20_VAF>0_5pct        142               8268                  0.59                0.03    9.817  2.83e-24      3.65e-96     1.00    1.00    1.00             0.51           0.06        [0.50, 0.53]    [0.053, 0.069]               0.29\n",
      "    DP>20_VAF>0_10pct        142              16612                  0.58                0.03   13.101  3.63e-24     3.57e-113     1.00    1.00    1.00             0.53           0.05        [0.52, 0.54]    [0.045, 0.058]               0.29\n",
      "    DP>20_VAF>0_25pct        142              41639                  0.58                0.03   19.114  3.91e-24     1.88e-135     1.00    1.00    1.00             0.54           0.04        [0.53, 0.55]    [0.037, 0.044]               0.29\n",
      "    DP>20_VAF>0_50pct        142              83363                  0.58                0.02   24.013  3.91e-24     7.61e-149     1.00    1.00    1.00             0.55           0.03        [0.54, 0.56]    [0.031, 0.036]               0.29\n",
      "    DP>20_VAF>0_75pct        142             125046                  0.58                0.02   27.216  3.91e-24     2.39e-156     1.00    1.00    1.00             0.56           0.03        [0.55, 0.56]    [0.030, 0.034]               0.29\n",
      "   DP>20_VAF>0_100pct        142             166810                  0.58                0.02   28.757  3.91e-24     1.07e-159     1.00    1.00    1.00             0.56           0.03        [0.55, 0.56]    [0.030, 0.034]               0.29\n",
      "  DP>20_VAF>0.25_1pct        142               1585                  0.58                0.02    5.592  1.90e-25      1.18e-64     1.00    1.00    0.99             0.45           0.07        [0.42, 0.48]    [0.059, 0.088]               0.26\n",
      "  DP>20_VAF>0.25_5pct        142               8234                  0.58                0.02   11.570  2.26e-24     1.56e-105     1.00    1.00    1.00             0.51           0.05        [0.50, 0.53]    [0.039, 0.051]               0.28\n",
      " DP>20_VAF>0.25_10pct        142              16552                  0.58                0.02   15.711  3.58e-24     1.12e-123     1.00    1.00    1.00             0.53           0.04        [0.52, 0.54]    [0.035, 0.044]               0.29\n",
      " DP>20_VAF>0.25_25pct        142              41516                  0.58                0.02   20.141  3.91e-24     1.77e-138     1.00    1.00    1.00             0.54           0.03        [0.54, 0.55]    [0.032, 0.038]               0.29\n",
      " DP>20_VAF>0.25_50pct        142              83110                  0.58                0.02   23.809  3.91e-24     1.12e-148     1.00    1.00    1.00             0.55           0.03        [0.55, 0.56]    [0.031, 0.037]               0.29\n",
      " DP>20_VAF>0.25_75pct        142             124670                  0.58                0.02   27.349  3.91e-24     9.91e-157     1.00    1.00    1.00             0.55           0.03        [0.55, 0.56]    [0.030, 0.034]               0.29\n",
      "DP>20_VAF>0.25_100pct        142             166312                  0.58                0.02   28.586  3.91e-24     2.51e-159     1.00    1.00    1.00             0.56           0.03        [0.55, 0.56]    [0.029, 0.034]               0.29\n",
      "\n",
      "==================================================\n",
      "SAVING RESULTS\n",
      "==================================================\n",
      "Saved: xhetrel/xhet_DP>0_VAF>0_1pct.tsv\n",
      "Saved: xhetrel/xhet_DP>0_VAF>0_5pct.tsv\n",
      "Saved: xhetrel/xhet_DP>0_VAF>0_10pct.tsv\n"
     ]
    },
    {
     "name": "stdout",
     "output_type": "stream",
     "text": [
      "Saved: xhetrel/xhet_DP>0_VAF>0_25pct.tsv\n",
      "Saved: xhetrel/xhet_DP>0_VAF>0_50pct.tsv\n",
      "Saved: xhetrel/xhet_DP>0_VAF>0_75pct.tsv\n",
      "Saved: xhetrel/xhet_DP>0_VAF>0_100pct.tsv\n",
      "Saved: xhetrel/xhet_DP>0_VAF>0.25_1pct.tsv\n",
      "Saved: xhetrel/xhet_DP>0_VAF>0.25_5pct.tsv\n",
      "Saved: xhetrel/xhet_DP>0_VAF>0.25_10pct.tsv\n"
     ]
    },
    {
     "name": "stdout",
     "output_type": "stream",
     "text": [
      "Saved: xhetrel/xhet_DP>0_VAF>0.25_25pct.tsv\n",
      "Saved: xhetrel/xhet_DP>0_VAF>0.25_50pct.tsv\n",
      "Saved: xhetrel/xhet_DP>0_VAF>0.25_75pct.tsv\n",
      "Saved: xhetrel/xhet_DP>0_VAF>0.25_100pct.tsv\n",
      "Saved: xhetrel/xhet_DP>10_VAF>0_1pct.tsv\n",
      "Saved: xhetrel/xhet_DP>10_VAF>0_5pct.tsv\n",
      "Saved: xhetrel/xhet_DP>10_VAF>0_10pct.tsv\n",
      "Saved: xhetrel/xhet_DP>10_VAF>0_25pct.tsv\n",
      "Saved: xhetrel/xhet_DP>10_VAF>0_50pct.tsv\n",
      "Saved: xhetrel/xhet_DP>10_VAF>0_75pct.tsv\n"
     ]
    },
    {
     "name": "stdout",
     "output_type": "stream",
     "text": [
      "Saved: xhetrel/xhet_DP>10_VAF>0_100pct.tsv\n",
      "Saved: xhetrel/xhet_DP>10_VAF>0.25_1pct.tsv\n",
      "Saved: xhetrel/xhet_DP>10_VAF>0.25_5pct.tsv\n",
      "Saved: xhetrel/xhet_DP>10_VAF>0.25_10pct.tsv\n",
      "Saved: xhetrel/xhet_DP>10_VAF>0.25_25pct.tsv\n",
      "Saved: xhetrel/xhet_DP>10_VAF>0.25_50pct.tsv\n",
      "Saved: xhetrel/xhet_DP>10_VAF>0.25_75pct.tsv\n",
      "Saved: xhetrel/xhet_DP>10_VAF>0.25_100pct.tsv\n",
      "Saved: xhetrel/xhet_DP>20_VAF>0_1pct.tsv\n"
     ]
    },
    {
     "name": "stdout",
     "output_type": "stream",
     "text": [
      "Saved: xhetrel/xhet_DP>20_VAF>0_5pct.tsv\n",
      "Saved: xhetrel/xhet_DP>20_VAF>0_10pct.tsv\n",
      "Saved: xhetrel/xhet_DP>20_VAF>0_25pct.tsv\n",
      "Saved: xhetrel/xhet_DP>20_VAF>0_50pct.tsv\n",
      "Saved: xhetrel/xhet_DP>20_VAF>0_75pct.tsv\n",
      "Saved: xhetrel/xhet_DP>20_VAF>0_100pct.tsv\n",
      "Saved: xhetrel/xhet_DP>20_VAF>0.25_1pct.tsv\n"
     ]
    },
    {
     "name": "stdout",
     "output_type": "stream",
     "text": [
      "Saved: xhetrel/xhet_DP>20_VAF>0.25_5pct.tsv\n",
      "Saved: xhetrel/xhet_DP>20_VAF>0.25_10pct.tsv\n",
      "Saved: xhetrel/xhet_DP>20_VAF>0.25_25pct.tsv\n",
      "Saved: xhetrel/xhet_DP>20_VAF>0.25_50pct.tsv\n",
      "Saved: xhetrel/xhet_DP>20_VAF>0.25_75pct.tsv\n",
      "Saved: xhetrel/xhet_DP>20_VAF>0.25_100pct.tsv\n",
      "Saved: xhetrel/analysis_summary.tsv\n"
     ]
    }
   ],
   "source": [
    "# Run the analysis\n",
    "print(\"Starting X heterozygosity analysis...\")\n",
    "results, variants_df, sex_df = run_full_analysis()\n",
    "\n",
    "# Create and display summary\n",
    "summary_df = create_summary_table(results)\n",
    "print(\"\\n\" + \"=\"*100)\n",
    "print(\"ANALYSIS SUMMARY\")\n",
    "print(\"=\"*100)\n",
    "print(summary_df.to_string(index=False))\n",
    "\n",
    "# Save results\n",
    "print(\"\\n\" + \"=\"*50)\n",
    "print(\"SAVING RESULTS\")\n",
    "print(\"=\"*50)\n",
    "save_results(results)\n"
   ]
  },
  {
   "cell_type": "code",
   "execution_count": null,
   "id": "iLit",
   "metadata": {},
   "outputs": [
    {
     "data": {
      "image/png": "[encoded data removed]"
     },
     "metadata": {},
     "output_type": "display_data"
    }
   ],
   "source": [
    "def plot_results_comparison(results):\n",
    "    \"\"\"Create comparison plots matching the original aesthetic.\"\"\"\n",
    "    # Set font to DejaVu Sans to match original\n",
    "    plt.rcParams['font.family'] = 'DejaVu Sans'\n",
    "\n",
    "    # Define color palette matching the original\n",
    "    colors = {\n",
    "        'red': '#FA5252',      # red5\n",
    "        'blue': '#4DABF7',     # blue5\n",
    "        'violet': '#845EF7',   # violet5\n",
    "        'indigo': '#5C7CFA',   # indigo5\n",
    "        'pink': '#F06595',     # pink5\n",
    "        'teal': '#20C997',     # teal5\n",
    "    }\n",
    "\n",
    "    # Define line styles and markers\n",
    "    line_styles = ['-', '--', '-.', ':']\n",
    "    markers = ['o', 's', '^', 'D', 'v', '<']\n",
    "\n",
    "    # Organize results by DP/VAF conditions and percentages\n",
    "    organized_results = {}\n",
    "    percentages = [0.01, 0.05, 0.10, 0.25, 0.50, 0.75, 1.0]\n",
    "\n",
    "    for condition_name, result in results.items():\n",
    "        # Parse condition name (e.g., \"DP>0_VAF>0_50pct\")\n",
    "        parts = condition_name.split('_')\n",
    "        dp_vaf = f\"{parts[0]}_{parts[1]}\"  # e.g., \"DP>0_VAF>0\"\n",
    "        pct = float(parts[2].replace('pct', '')) / 100  # e.g., 0.50\n",
    "\n",
    "        if dp_vaf not in organized_results:\n",
    "            organized_results[dp_vaf] = {}\n",
    "        organized_results[dp_vaf][pct] = result\n",
    "\n",
    "    # Create subplots matching original layout\n",
    "    fig, axes = plt.subplots(2, 2, figsize=(15, 12))\n",
    "\n",
    "    # Plot A: Accuracy vs. Variant Percentage\n",
    "    ax1 = axes[0, 0]\n",
    "    for i, (dp_vaf, metrics) in enumerate(organized_results.items()):\n",
    "        pcts = sorted(metrics.keys())\n",
    "        accuracies = [metrics[pct]['classification_results']['accuracy'] for pct in pcts]\n",
    "\n",
    "        color = list(colors.values())[i % len(colors)]\n",
    "        style = line_styles[i % len(line_styles)]\n",
    "        marker = markers[i % len(markers)]\n",
    "\n",
    "        ax1.plot(pcts, accuracies, \n",
    "                marker=marker, \n",
    "                linestyle=style, \n",
    "                color=color, \n",
    "                alpha=0.8,\n",
    "                linewidth=2,\n",
    "                label=dp_vaf.replace('>', ' > ').replace('_', ' '))\n",
    "\n",
    "    ax1.set_xlabel('Percentage of Variants')\n",
    "    ax1.set_ylabel('Accuracy')\n",
    "    ax1.set_title('Accuracy vs. Variant Percentage')\n",
    "    ax1.legend(bbox_to_anchor=(1.05, 1), loc='upper left')\n",
    "    ax1.grid(True, alpha=0.3)\n",
    "    ax1.spines['top'].set_visible(False)\n",
    "    ax1.spines['right'].set_visible(False)\n",
    "    ax1.text(-0.1, 1.1, 'A', transform=ax1.transAxes, fontsize=16, fontweight='bold')\n",
    "\n",
    "    # Plot B: AUC-ROC vs. Variant Percentage\n",
    "    ax2 = axes[0, 1]\n",
    "    for i, (dp_vaf, metrics) in enumerate(organized_results.items()):\n",
    "        pcts = sorted(metrics.keys())\n",
    "        aucs = [metrics[pct]['classification_results']['auc'] for pct in pcts]\n",
    "\n",
    "        color = list(colors.values())[i % len(colors)]\n",
    "        style = line_styles[i % len(line_styles)]\n",
    "        marker = markers[i % len(markers)]\n",
    "\n",
    "        ax2.plot(pcts, aucs, \n",
    "                marker=marker, \n",
    "                linestyle=style, \n",
    "                color=color, \n",
    "                alpha=0.8,\n",
    "                linewidth=2,\n",
    "                label=dp_vaf.replace('>', ' > ').replace('_', ' '))\n",
    "\n",
    "    ax2.set_xlabel('Percentage of Variants')\n",
    "    ax2.set_ylabel('AUC-ROC')\n",
    "    ax2.set_title('AUC-ROC vs. Variant Percentage')\n",
    "    ax2.legend(bbox_to_anchor=(1.05, 1), loc='upper left')\n",
    "    ax2.grid(True, alpha=0.3)\n",
    "    ax2.spines['top'].set_visible(False)\n",
    "    ax2.spines['right'].set_visible(False)\n",
    "    ax2.text(-0.1, 1.1, 'B', transform=ax2.transAxes, fontsize=16, fontweight='bold')\n",
    "\n",
    "    # Plot C: Sex-specific Thresholds vs. Variant Percentage\n",
    "    ax3 = axes[1, 0]\n",
    "    for i, (dp_vaf, metrics) in enumerate(organized_results.items()):\n",
    "        pcts = sorted(metrics.keys())\n",
    "        female_thresholds = [metrics[pct]['classification_results']['female_threshold'] for pct in pcts]\n",
    "        male_thresholds = [metrics[pct]['classification_results']['male_threshold'] for pct in pcts]\n",
    "        midpoint_thresholds = [metrics[pct]['classification_results']['midpoint_threshold'] for pct in pcts]\n",
    "\n",
    "        style = line_styles[i % len(line_styles)]\n",
    "        marker = markers[i % len(markers)]\n",
    "        color = list(colors.values())[i % len(colors)]\n",
    "\n",
    "        # Plot female thresholds\n",
    "        ax3.plot(pcts, female_thresholds, \n",
    "                marker=marker, \n",
    "                linestyle=style, \n",
    "                color=color, \n",
    "                alpha=0.8,\n",
    "                linewidth=2,\n",
    "                label=f'{dp_vaf.replace(\">\", \" > \").replace(\"_\", \" \")} (Female)')\n",
    "\n",
    "        # Plot male thresholds\n",
    "        ax3.plot(pcts, male_thresholds, \n",
    "                marker=marker, \n",
    "                linestyle='--', \n",
    "                color=color, \n",
    "                alpha=0.8,\n",
    "                linewidth=2,\n",
    "                label=f'{dp_vaf.replace(\">\", \" > \").replace(\"_\", \" \")} (Male)')\n",
    "\n",
    "        # # Plot midpoint thresholds\n",
    "        # ax3.plot(pcts, midpoint_thresholds,\n",
    "        #         marker=marker, \n",
    "        #         linestyle='-', \n",
    "        #         color=color, \n",
    "        #         alpha=0.8,\n",
    "        #         linewidth=2,\n",
    "        #         label=f'{dp_vaf.replace(\">\", \" > \").replace(\"_\", \" \")} (Midpoint)')\n",
    "\n",
    "    ax3.set_xlabel('Percentage of Variants')\n",
    "    ax3.set_ylabel('Heterozygosity Ratio Threshold')\n",
    "    ax3.set_title('Sex-specific Thresholds vs. Variant Percentage')\n",
    "    ax3.legend(bbox_to_anchor=(1.05, 1), loc='upper left')\n",
    "    ax3.grid(True, alpha=0.3)\n",
    "    ax3.spines['top'].set_visible(False)\n",
    "    ax3.spines['right'].set_visible(False)\n",
    "    ax3.text(-0.1, 1.1, 'C', transform=ax3.transAxes, fontsize=16, fontweight='bold')\n",
    "\n",
    "    # Plot D: Average Variants by Sex\n",
    "    ax4 = axes[1, 1]\n",
    "    for i, (dp_vaf, metrics) in enumerate(organized_results.items()):\n",
    "        pcts = sorted(metrics.keys())\n",
    "\n",
    "        # Calculate average variants for females and males\n",
    "        female_variants = []\n",
    "        male_variants = []\n",
    "\n",
    "        for pct in pcts:\n",
    "            df = metrics[pct]['het_ratios_df']\n",
    "            female_avg = df[df['Sex'] == 'female']['Total_Variants'].mean()\n",
    "            male_avg = df[df['Sex'] == 'male']['Total_Variants'].mean()\n",
    "            female_variants.append(female_avg)\n",
    "            male_variants.append(male_avg)\n",
    "\n",
    "        color = list(colors.values())[i % len(colors)]\n",
    "        style = line_styles[i % len(line_styles)]\n",
    "        marker = markers[i % len(markers)]\n",
    "\n",
    "        # Plot female variants (solid line)\n",
    "        ax4.plot(pcts, female_variants, \n",
    "                marker=marker, \n",
    "                linestyle=style, \n",
    "                color=color, \n",
    "                alpha=0.8,\n",
    "                linewidth=2,\n",
    "                label=f'{dp_vaf.replace(\">\", \" > \").replace(\"_\", \" \")} (Female)')\n",
    "\n",
    "        # Plot male variants (dashed line)\n",
    "        ax4.plot(pcts, male_variants, \n",
    "                marker=marker, \n",
    "                linestyle='--', \n",
    "                color=color, \n",
    "                alpha=0.6,\n",
    "                linewidth=1.5,\n",
    "                label=f'{dp_vaf.replace(\">\", \" > \").replace(\"_\", \" \")} (Male)')\n",
    "\n",
    "    ax4.set_xlabel('Percentage of Variants')\n",
    "    ax4.set_ylabel('Average Number of Variants')\n",
    "    ax4.set_title('Average Variants by Sex')\n",
    "    ax4.legend(bbox_to_anchor=(1.05, 1), loc='upper left')\n",
    "    ax4.grid(True, alpha=0.3)\n",
    "    ax4.spines['top'].set_visible(False)\n",
    "    ax4.spines['right'].set_visible(False)\n",
    "    ax4.text(-0.1, 1.1, 'D', transform=ax4.transAxes, fontsize=16, fontweight='bold')\n",
    "\n",
    "    plt.tight_layout()\n",
    "    plt.show()\n",
    "\n",
    "    return fig\n",
    "\n",
    "# Create comparison plots\n",
    "plot_results_comparison(results)\n"
   ]
  }
 ],
 "metadata": {},
 "nbformat": 4,
 "nbformat_minor": 5
}
