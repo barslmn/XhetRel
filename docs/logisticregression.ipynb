{
 "cells": [
  {
   "cell_type": "code",
   "execution_count": null,
   "id": "Hbol",
   "metadata": {},
   "outputs": [
    {
     "name": "stderr",
     "output_type": "stream",
     "text": [
      "<span class=\"codehilite\"><div class=\"highlight\"><pre><span></span><span class=\"gt\">Traceback (most recent call last):</span>\n",
      "  File <span class=\"nb\">&quot;/home/bar/Desktop/Workbench/phd/Analizler/.venv/lib64/python3.13/site-packages/marimo/_runtime/executor.py&quot;</span>, line <span class=\"m\">138</span>, in <span class=\"n\">execute_cell</span>\n",
      "<span class=\"w\">    </span><span class=\"n\">exec</span><span class=\"p\">(</span><span class=\"n\">cell</span><span class=\"o\">.</span><span class=\"n\">body</span><span class=\"p\">,</span> <span class=\"n\">glbls</span><span class=\"p\">)</span>\n",
      "<span class=\"w\">    </span><span class=\"pm\">~~~~^^^^^^^^^^^^^^^^^^</span>\n",
      "  File <span class=\"nb\">&quot;/tmp/marimo_805384/__marimo__cell_Hbol_.py&quot;</span>, line <span class=\"m\">7</span>, in <span class=\"n\">&lt;module&gt;</span>\n",
      "<span class=\"w\">    </span><span class=\"n\">genotype_counts</span> <span class=\"o\">=</span> <span class=\"n\">read_vcf_data</span><span class=\"p\">(</span><span class=\"s2\">&quot;xhetrel/merged.vcf.gz&quot;</span><span class=\"p\">)</span>\n",
      "<span class=\"w\">                      </span><span class=\"pm\">^^^^^^^^^^^^^</span>\n",
      "<span class=\"gr\">NameError</span>: <span class=\"n\">name &#39;read_vcf_data&#39; is not defined</span>\n",
      "</pre></div>\n",
      "</span>"
     ]
    }
   ],
   "source": [
    "# Define conditions\n",
    "dp_filters = [0, 10, 20]\n",
    "vaf_filters = [0, 25]\n",
    "variant_percentages = [0.01, 0.05, 0.10, 0.25, 0.50, 0.75, 1.00]\n",
    "\n",
    "# Read data\n",
    "genotype_counts = read_vcf_data(\"xhetrel/merged.vcf.gz\")\n",
    "sex_df = read_sample_sex(\"xhetrel/sample_sex.tsv\")\n",
    "\n",
    "# Analyze each condition\n",
    "results = {}\n",
    "for dp in dp_filters:\n",
    "    for vaf in vaf_filters:\n",
    "        depth_range = f\"DP{dp}_VAF{vaf}\"\n",
    "        print(f\"\\nAnalyzing {depth_range}\")\n",
    "\n",
    "        # Filter variants\n",
    "        filtered_counts = filter_variants(genotype_counts, dp, vaf)\n",
    "\n",
    "        # Calculate initial heterozygosity ratios\n",
    "        het_ratios_df = calculate_het_ratios(filtered_counts, sex_df)\n",
    "\n",
    "        # Analyze with different variant percentages\n",
    "        results[depth_range] = {}\n",
    "        for pct in variant_percentages:\n",
    "            print(f\"  {pct*100:.0f}% variants\")\n",
    "            metrics, het_ratios_df = analyze_condition(het_ratios_df, depth_range, pct)\n",
    "            results[depth_range][pct] = {\n",
    "                **metrics,\n",
    "                'het_ratios_df': het_ratios_df\n",
    "            }\n",
    "\n",
    "# Write results\n",
    "write_results(results)"
   ]
  }
 ],
 "metadata": {},
 "nbformat": 4,
 "nbformat_minor": 5
}
